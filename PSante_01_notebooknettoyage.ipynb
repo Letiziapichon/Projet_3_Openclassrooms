{
 "cells": [
  {
   "cell_type": "markdown",
   "id": "196fdf46-bb61-4cfa-90f7-cc90c88aa7b5",
   "metadata": {},
   "source": [
    "# Project 3 OpenClassRooms - Notebook 1\n",
    "Letizia Pichon"
   ]
  },
  {
   "cell_type": "markdown",
   "id": "9eaffb0c-537e-4463-a895-240fcf5f81e9",
   "metadata": {},
   "source": [
    "## 1. Import Libraries and data"
   ]
  },
  {
   "cell_type": "code",
   "execution_count": 1,
   "id": "88be3a9b-913e-4862-9272-db511b56d5e4",
   "metadata": {},
   "outputs": [],
   "source": [
    "import glob\n",
    "import matplotlib.pyplot as plt\n",
    "import missingno as msno\n",
    "import numpy as np\n",
    "import pandas as pd\n",
    "import seaborn as sns\n",
    "from tqdm import tqdm \n",
    "\n",
    "tqdm.pandas()"
   ]
  },
  {
   "cell_type": "code",
   "execution_count": 2,
   "id": "f15ab822-f444-4d02-8419-34b739a3baca",
   "metadata": {},
   "outputs": [
    {
     "name": "stderr",
     "output_type": "stream",
     "text": [
      "C:\\Users\\letiz\\miniconda3\\envs\\factonics\\lib\\site-packages\\IPython\\core\\interactiveshell.py:3437: DtypeWarning: Columns (0,8,13,22,23,27,28,29,31,52,55,64) have mixed types.Specify dtype option on import or set low_memory=False.\n",
      "  exec(code_obj, self.user_global_ns, self.user_ns)\n"
     ]
    },
    {
     "name": "stdout",
     "output_type": "stream",
     "text": [
      "Shape of data Table:  (1928697, 186)\n",
      "Shape of data Table :  (831216, 186)\n"
     ]
    }
   ],
   "source": [
    "data = pd.read_csv('data/products.csv', sep='\\t', encoding='utf-8')\n",
    "print('Shape of data Table: ', data.shape)\n",
    "\n",
    "# delete products that are not sold in France\n",
    "data = data[data['countries_en'].str.contains('france', case=False, na=False)]  \n",
    "\n",
    "print('Shape of data Table : ', data.shape)"
   ]
  },
  {
   "cell_type": "markdown",
   "id": "35fbcdba-5581-4400-9ae7-48477d6797dd",
   "metadata": {},
   "source": [
    "## 2. Keep interesting columns"
   ]
  },
  {
   "cell_type": "code",
   "execution_count": 3,
   "id": "e50ba6ec-56df-40b4-945d-f745014cee42",
   "metadata": {},
   "outputs": [
    {
     "name": "stdout",
     "output_type": "stream",
     "text": [
      "Info shape: (831216, 75) \n",
      "nutriment shape: (831216, 111)\n"
     ]
    }
   ],
   "source": [
    "# divide df in two dfs \n",
    "info = data.loc[:,'code':'image_nutrition_small_url' ]\n",
    "nutriments = data.loc[:,'energy-kj_100g':'carnitine_100g']\n",
    "print(f\"Info shape: {info.shape} \\nnutriment shape: {nutriments.shape}\")"
   ]
  },
  {
   "cell_type": "code",
   "execution_count": 4,
   "id": "2ae9b0bf-878c-45ab-a52f-9486063f747e",
   "metadata": {},
   "outputs": [],
   "source": [
    "del data"
   ]
  },
  {
   "cell_type": "markdown",
   "id": "6d60fd03-29d5-447f-82e8-8a9b428934b1",
   "metadata": {},
   "source": [
    "### 2.1 Filter on Informations columns"
   ]
  },
  {
   "cell_type": "markdown",
   "id": "e3304ee5-6aa3-4fff-ace9-77865264b70b",
   "metadata": {},
   "source": [
    "#### 2.1.1 Delete columns with more that 70% of nulls"
   ]
  },
  {
   "cell_type": "code",
   "execution_count": 5,
   "id": "1a89395d-a36b-4bdd-b4d0-4377699139e7",
   "metadata": {},
   "outputs": [
    {
     "name": "stdout",
     "output_type": "stream",
     "text": [
      "Number of columns to delete :  34\n",
      "Shape of info table :  (831216, 41)\n"
     ]
    }
   ],
   "source": [
    "# calculate ratio of null values for each column\n",
    "percent_missing = info.isnull().mean()\n",
    "missing_info = pd.DataFrame({'column_name': info.columns,\n",
    "                                 'ratio_nan': percent_missing})\n",
    "# select columns to delete\n",
    "col2delete = missing_info[missing_info['ratio_nan']>0.7]['column_name'].to_list()\n",
    "print('Number of columns to delete : ', len(col2delete))\n",
    "\n",
    "# filter on df\n",
    "info.drop(columns=col2delete, inplace=True)\n",
    "\n",
    "print('Shape of info table : ', info.shape)"
   ]
  },
  {
   "cell_type": "markdown",
   "id": "fe5d6914-4f2c-4433-adb8-e14c23d09ccc",
   "metadata": {},
   "source": [
    "#### 2.1.2 Delete duplicates columns keeping only columns with \"_en\""
   ]
  },
  {
   "cell_type": "code",
   "execution_count": 6,
   "id": "4a8fc1e7-e19b-4253-89c0-53fe6055f2f0",
   "metadata": {},
   "outputs": [
    {
     "data": {
      "text/plain": [
       "['categories_en', 'labels_en', 'countries_en', 'states_en', 'main_category_en']"
      ]
     },
     "execution_count": 6,
     "metadata": {},
     "output_type": "execute_result"
    }
   ],
   "source": [
    "# find all columns containing \"_en\"\n",
    "regex = \"_en\"\n",
    "en = info.columns[info.columns.str.contains(regex)].to_list()\n",
    "en"
   ]
  },
  {
   "cell_type": "code",
   "execution_count": 7,
   "id": "3969a38b-e7d0-48c3-9584-d4e6aa5cd6fc",
   "metadata": {
    "tags": []
   },
   "outputs": [],
   "source": [
    "en = ['categories_en', 'labels_en', 'countries_en', 'states_en', 'main_category_en']\n",
    "list_with_en = ['categories', 'labels', 'countries', 'states', 'main_category']"
   ]
  },
  {
   "cell_type": "code",
   "execution_count": 8,
   "id": "ec14d746-8542-4fe5-83a0-61a439e0a8e6",
   "metadata": {},
   "outputs": [
    {
     "name": "stdout",
     "output_type": "stream",
     "text": [
      "Shape of info table :  (831216, 32)\n"
     ]
    }
   ],
   "source": [
    "# find all columns that are duplicates of columns containing '_en' and keep only columns with '_en'\n",
    "col2delete = []\n",
    "list_with_en = []\n",
    "\n",
    "# find the original column name\n",
    "for el in en: \n",
    "    list_with_en.append(el.replace('_en',''))\n",
    "\n",
    "# find all the column that have the same name of the en columns and delete them\n",
    "for element in list_with_en: \n",
    "    l = info.columns[info.columns.str.contains(element)].to_list()\n",
    "    for el in l: \n",
    "        if ('_en' not in el) and ('_n' not in el):\n",
    "            col2delete.append(el)\n",
    "\n",
    "info.drop(columns=col2delete, inplace=True)\n",
    "print('Shape of info table : ', info.shape)"
   ]
  },
  {
   "cell_type": "markdown",
   "id": "4fd8db2e-978a-4cb8-97eb-b38f042f47f8",
   "metadata": {},
   "source": [
    "#### 2.1.3 Investigate categories columns"
   ]
  },
  {
   "cell_type": "markdown",
   "id": "f376936b-1fce-45ad-b4ee-35c6e194cd79",
   "metadata": {},
   "source": [
    "4 columns give informations about the product type. We need to keep only one column"
   ]
  },
  {
   "cell_type": "code",
   "execution_count": 9,
   "id": "450d1f5f-d69c-4ea3-959f-ddce84a702b8",
   "metadata": {},
   "outputs": [
    {
     "name": "stdout",
     "output_type": "stream",
     "text": [
      "Categories_en:  44512 categories\n",
      "Main_category_en:  18377 categories\n",
      "Pnns_groups_1:  11 categories\n",
      "Pnns_groups_2:  41 categories\n"
     ]
    }
   ],
   "source": [
    "print('Categories_en: ', info['categories_en'].nunique(), 'categories')\n",
    "print('Main_category_en: ', info['main_category_en'].nunique(), 'categories')\n",
    "\n",
    "info.pnns_groups_1.replace('unknown', np.nan, inplace=True)\n",
    "info.pnns_groups_2.replace('unknown', np.nan, inplace=True)\n",
    "print('Pnns_groups_1: ', info['pnns_groups_1'].nunique(), 'categories')\n",
    "print('Pnns_groups_2: ', info['pnns_groups_2'].nunique(), 'categories')"
   ]
  },
  {
   "cell_type": "markdown",
   "id": "76121f14-c584-4c43-a29d-2bd2f546e518",
   "metadata": {},
   "source": [
    "#### 2.1.4 Delete columns with selected tags"
   ]
  },
  {
   "cell_type": "code",
   "execution_count": 10,
   "id": "261342de-05c4-4b96-963f-013876462ae4",
   "metadata": {},
   "outputs": [
    {
     "name": "stdout",
     "output_type": "stream",
     "text": [
      "Shape of info table :  (831216, 14)\n"
     ]
    }
   ],
   "source": [
    "to_delete = [\"image\", 'url', 'created', 'creator', 'modified', 'additives',\n",
    "             'tags', 'states', 'ingredients', 'quantity', 'kj']\n",
    "columns2delete = info.columns[info.columns.str.contains(\"|\".join(to_delete), regex=True, case=False, na=False)].to_list()\n",
    "columns2delete.remove('image_url')\n",
    "\n",
    "info.drop(columns=columns2delete,inplace=True)  \n",
    "print('Shape of info table : ', info.shape)"
   ]
  },
  {
   "cell_type": "code",
   "execution_count": 11,
   "id": "0b079dbb-791d-41a0-89d6-e8b74e77b207",
   "metadata": {},
   "outputs": [
    {
     "data": {
      "text/plain": [
       "<AxesSubplot:>"
      ]
     },
     "execution_count": 11,
     "metadata": {},
     "output_type": "execute_result"
    },
    {
     "data": {
      "image/png": "[encoded data removed]",
      "text/plain": [
       "<Figure size 1800x720 with 3 Axes>"
      ]
     },
     "metadata": {
      "needs_background": "light"
     },
     "output_type": "display_data"
    }
   ],
   "source": [
    "msno.bar(info)"
   ]
  },
  {
   "cell_type": "markdown",
   "id": "ed8eafe6-0259-43a9-9bd7-2f3b6305559a",
   "metadata": {},
   "source": [
    "### 2.2 Filter on nutriments columns"
   ]
  },
  {
   "cell_type": "markdown",
   "id": "4f6a8dc8-3cc8-4d68-ba73-e51c508b0c8d",
   "metadata": {},
   "source": [
    "#### 2.2.1 Delete columns that have more than 70% of null values"
   ]
  },
  {
   "cell_type": "code",
   "execution_count": 12,
   "id": "85b08238-1197-425b-9c51-5e8309983518",
   "metadata": {},
   "outputs": [],
   "source": [
    "nutriments.shape[0]\n",
    "nan_nutr = nutriments.isna().sum().reset_index()\n",
    "nan_nutr.rename(columns = {0: 'nan_count'}, inplace=True)\n",
    "nan_nutr['values'] = nutriments.shape[0] - nan_nutr['nan_count']\n",
    "nan_nutr['ratio_nan'] = nan_nutr['nan_count'] / nutriments.shape[0]\n",
    "\n",
    "col2keep = nan_nutr[nan_nutr['ratio_nan'] < 0.3]['index'].to_list()\n",
    "\n",
    "nutriments = nutriments[col2keep]"
   ]
  },
  {
   "cell_type": "code",
   "execution_count": 13,
   "id": "ef0a2212-b02f-41ab-97ff-3ba03b325d74",
   "metadata": {},
   "outputs": [
    {
     "data": {
      "text/plain": [
       "<AxesSubplot:>"
      ]
     },
     "execution_count": 13,
     "metadata": {},
     "output_type": "execute_result"
    },
    {
     "data": {
      "image/png": "[encoded data removed]",
      "text/plain": [
       "<Figure size 1800x720 with 3 Axes>"
      ]
     },
     "metadata": {
      "needs_background": "light"
     },
     "output_type": "display_data"
    }
   ],
   "source": [
    "msno.bar(nutriments)"
   ]
  },
  {
   "cell_type": "markdown",
   "id": "19fcd134-f1b0-4657-8c93-f381f7433df1",
   "metadata": {},
   "source": [
    "### 2.3 Concat dfs"
   ]
  },
  {
   "cell_type": "code",
   "execution_count": 14,
   "id": "884a1fa8-9196-4fca-918f-e8848463bf44",
   "metadata": {},
   "outputs": [],
   "source": [
    "data = pd.concat([info, nutriments], axis=1)"
   ]
  },
  {
   "cell_type": "markdown",
   "id": "1d55cc3d-9342-4491-939d-f171de26147b",
   "metadata": {},
   "source": [
    "## 3. Clean Data"
   ]
  },
  {
   "cell_type": "markdown",
   "id": "3b5b9d6a-46a8-459f-8ed3-41c02a5c41d9",
   "metadata": {},
   "source": [
    "### 3.1 Delete rows"
   ]
  },
  {
   "cell_type": "markdown",
   "id": "41451189-63b1-496b-8bde-da5ac42c5fb2",
   "metadata": {},
   "source": [
    "#### 3.1.1 Delete not usable rows"
   ]
  },
  {
   "cell_type": "code",
   "execution_count": 15,
   "id": "80e414ea-65d7-4b3c-af2b-c92bbe24d2af",
   "metadata": {},
   "outputs": [
    {
     "name": "stdout",
     "output_type": "stream",
     "text": [
      "Shape of data table :  (831216, 23)\n",
      "Shape of data table after first cleaning:  (807994, 23)\n"
     ]
    }
   ],
   "source": [
    "print('Shape of data table : ', data.shape)\n",
    "\n",
    "data = data.drop_duplicates()\n",
    "data = data[data['product_name'].notnull()]\n",
    "\n",
    "print('Shape of data table after first cleaning: ', data.shape)"
   ]
  },
  {
   "cell_type": "markdown",
   "id": "35e4feaf-fca9-4b96-9c53-9b64dfa22891",
   "metadata": {},
   "source": [
    "#### 3.1.2 Delete rows with more that 50% of nulls"
   ]
  },
  {
   "cell_type": "code",
   "execution_count": 16,
   "id": "8a36aaf2-0856-43a1-a8d1-532e650371be",
   "metadata": {},
   "outputs": [
    {
     "name": "stdout",
     "output_type": "stream",
     "text": [
      "Shape of data table after first cleaning:  (638744, 23)\n"
     ]
    }
   ],
   "source": [
    "data['ratio_null'] = data.isnull().mean(axis=1)\n",
    "data = data[data['ratio_null'] < 0.5]\n",
    "\n",
    "del data['ratio_null']\n",
    "print('Shape of data table after first cleaning: ', data.shape)"
   ]
  },
  {
   "cell_type": "markdown",
   "id": "dedaaad6-c7dc-4ced-9bc6-f05e3c66d2d8",
   "metadata": {},
   "source": [
    "#### 3.1.3 Clean nutriments columns"
   ]
  },
  {
   "cell_type": "code",
   "execution_count": 17,
   "id": "18d034e9-b363-4fc3-b62f-48022d3f3948",
   "metadata": {},
   "outputs": [
    {
     "name": "stdout",
     "output_type": "stream",
     "text": [
      "Shape of data table after first cleaning:  (319193, 23)\n"
     ]
    }
   ],
   "source": [
    "# find nutriments columns without energy columns\n",
    "nutriments = data.columns[data.columns.str.contains('100g')].to_list()[2:]\n",
    "\n",
    "#delete all rows with ourliers\n",
    "for el in nutriments: \n",
    "    data[el] = data[el].fillna(0)\n",
    "    outliers = data[el].mean() + 2 * data[el].std()\n",
    "    if  outliers > 100 : \n",
    "        outliers = 100\n",
    "    data = data[data[el].between(0, outliers, inclusive = \"both\")]  # MD: both instead of True\n",
    "\n",
    "# delete rows with not coherent data \n",
    "data = data[data['saturated-fat_100g'] < data['fat_100g']]  \n",
    "data = data[data['sugars_100g'] < data['carbohydrates_100g']]\n",
    "data = data[data['sodium_100g'] < data['salt_100g']] \n",
    "# https://sante.journaldesfemmes.fr/fiches-sante-du-quotidien/2657523-quels-aliments-les-plus-caloriques-a-eviter/#:~:text=L'aliment%20%C3%A0%20la%20densit%C3%A9,et%20apporte%20900%20calories%2F100g.\n",
    "data = data[(data['energy-kcal_100g'] <= 900) | (data['energy-kcal_100g'].isnull())]\n",
    "print('Shape of data table after first cleaning: ', data.shape)"
   ]
  },
  {
   "cell_type": "markdown",
   "id": "488666f6-845a-4a0a-8992-e98296b36931",
   "metadata": {},
   "source": [
    "#### 3.1.4 Investigate if we can predict energy-kcal_100g column from energy_100g"
   ]
  },
  {
   "cell_type": "markdown",
   "id": "a8f3c579-882c-4d3a-b2c3-dc39e0f68dea",
   "metadata": {},
   "source": [
    "energy-kcal_100g has a lot more null values that energy_100g and we find a very strong correlation between these two columns"
   ]
  },
  {
   "cell_type": "code",
   "execution_count": 18,
   "id": "ef2b836d-f32b-4894-94a9-a5a244e860e5",
   "metadata": {},
   "outputs": [
    {
     "data": {
      "text/html": [
       "<style type=\"text/css\">\n",
       "#T_c5462_row0_col0, #T_c5462_row1_col1, #T_c5462_row2_col2, #T_c5462_row2_col3, #T_c5462_row3_col2, #T_c5462_row3_col3, #T_c5462_row4_col4, #T_c5462_row5_col5, #T_c5462_row6_col6, #T_c5462_row7_col7, #T_c5462_row8_col8, #T_c5462_row9_col9, #T_c5462_row9_col10, #T_c5462_row10_col9, #T_c5462_row10_col10 {\n",
       "  background-color: #b40426;\n",
       "  color: #f1f1f1;\n",
       "}\n",
       "#T_c5462_row0_col1 {\n",
       "  background-color: #485fd1;\n",
       "  color: #f1f1f1;\n",
       "}\n",
       "#T_c5462_row0_col2 {\n",
       "  background-color: #f7ba9f;\n",
       "  color: #000000;\n",
       "}\n",
       "#T_c5462_row0_col3 {\n",
       "  background-color: #7396f5;\n",
       "  color: #f1f1f1;\n",
       "}\n",
       "#T_c5462_row0_col4 {\n",
       "  background-color: #f7ac8e;\n",
       "  color: #000000;\n",
       "}\n",
       "#T_c5462_row0_col5 {\n",
       "  background-color: #ec8165;\n",
       "  color: #f1f1f1;\n",
       "}\n",
       "#T_c5462_row0_col6, #T_c5462_row7_col4 {\n",
       "  background-color: #b7cff9;\n",
       "  color: #000000;\n",
       "}\n",
       "#T_c5462_row0_col7 {\n",
       "  background-color: #f3c8b2;\n",
       "  color: #000000;\n",
       "}\n",
       "#T_c5462_row0_col8 {\n",
       "  background-color: #a3c2fe;\n",
       "  color: #000000;\n",
       "}\n",
       "#T_c5462_row0_col9, #T_c5462_row0_col10 {\n",
       "  background-color: #e2dad5;\n",
       "  color: #000000;\n",
       "}\n",
       "#T_c5462_row1_col0, #T_c5462_row1_col2, #T_c5462_row1_col3, #T_c5462_row1_col4, #T_c5462_row1_col5, #T_c5462_row1_col8, #T_c5462_row7_col9, #T_c5462_row7_col10, #T_c5462_row8_col1, #T_c5462_row9_col6, #T_c5462_row9_col7, #T_c5462_row10_col6, #T_c5462_row10_col7 {\n",
       "  background-color: #3b4cc0;\n",
       "  color: #f1f1f1;\n",
       "}\n",
       "#T_c5462_row1_col6 {\n",
       "  background-color: #a7c5fe;\n",
       "  color: #000000;\n",
       "}\n",
       "#T_c5462_row1_col7 {\n",
       "  background-color: #89acfd;\n",
       "  color: #000000;\n",
       "}\n",
       "#T_c5462_row1_col9, #T_c5462_row1_col10 {\n",
       "  background-color: #6282ea;\n",
       "  color: #f1f1f1;\n",
       "}\n",
       "#T_c5462_row2_col0 {\n",
       "  background-color: #f7af91;\n",
       "  color: #000000;\n",
       "}\n",
       "#T_c5462_row2_col1 {\n",
       "  background-color: #6687ed;\n",
       "  color: #f1f1f1;\n",
       "}\n",
       "#T_c5462_row2_col4 {\n",
       "  background-color: #ee8669;\n",
       "  color: #f1f1f1;\n",
       "}\n",
       "#T_c5462_row2_col5 {\n",
       "  background-color: #f5c2aa;\n",
       "  color: #000000;\n",
       "}\n",
       "#T_c5462_row2_col6 {\n",
       "  background-color: #f6bea4;\n",
       "  color: #000000;\n",
       "}\n",
       "#T_c5462_row2_col7 {\n",
       "  background-color: #ead4c8;\n",
       "  color: #000000;\n",
       "}\n",
       "#T_c5462_row2_col8, #T_c5462_row9_col8, #T_c5462_row10_col8 {\n",
       "  background-color: #d5dbe5;\n",
       "  color: #000000;\n",
       "}\n",
       "#T_c5462_row2_col9, #T_c5462_row2_col10, #T_c5462_row9_col5, #T_c5462_row10_col5 {\n",
       "  background-color: #9dbdff;\n",
       "  color: #000000;\n",
       "}\n",
       "#T_c5462_row3_col0 {\n",
       "  background-color: #b1cbfc;\n",
       "  color: #000000;\n",
       "}\n",
       "#T_c5462_row3_col1, #T_c5462_row7_col1 {\n",
       "  background-color: #8db0fe;\n",
       "  color: #000000;\n",
       "}\n",
       "#T_c5462_row3_col4, #T_c5462_row6_col0, #T_c5462_row8_col4 {\n",
       "  background-color: #cad8ef;\n",
       "  color: #000000;\n",
       "}\n",
       "#T_c5462_row3_col5 {\n",
       "  background-color: #b5cdfa;\n",
       "  color: #000000;\n",
       "}\n",
       "#T_c5462_row3_col6 {\n",
       "  background-color: #a9c6fd;\n",
       "  color: #000000;\n",
       "}\n",
       "#T_c5462_row3_col7 {\n",
       "  background-color: #b3cdfb;\n",
       "  color: #000000;\n",
       "}\n",
       "#T_c5462_row3_col8 {\n",
       "  background-color: #adc9fd;\n",
       "  color: #000000;\n",
       "}\n",
       "#T_c5462_row3_col9, #T_c5462_row3_col10 {\n",
       "  background-color: #96b7ff;\n",
       "  color: #000000;\n",
       "}\n",
       "#T_c5462_row4_col0 {\n",
       "  background-color: #f7ad90;\n",
       "  color: #000000;\n",
       "}\n",
       "#T_c5462_row4_col1 {\n",
       "  background-color: #445acc;\n",
       "  color: #f1f1f1;\n",
       "}\n",
       "#T_c5462_row4_col2 {\n",
       "  background-color: #f29274;\n",
       "  color: #f1f1f1;\n",
       "}\n",
       "#T_c5462_row4_col3 {\n",
       "  background-color: #93b5fe;\n",
       "  color: #000000;\n",
       "}\n",
       "#T_c5462_row4_col5 {\n",
       "  background-color: #f6a586;\n",
       "  color: #000000;\n",
       "}\n",
       "#T_c5462_row4_col6 {\n",
       "  background-color: #7597f6;\n",
       "  color: #f1f1f1;\n",
       "}\n",
       "#T_c5462_row4_col7 {\n",
       "  background-color: #bad0f8;\n",
       "  color: #000000;\n",
       "}\n",
       "#T_c5462_row4_col8 {\n",
       "  background-color: #cfdaea;\n",
       "  color: #000000;\n",
       "}\n",
       "#T_c5462_row4_col9, #T_c5462_row4_col10 {\n",
       "  background-color: #c0d4f5;\n",
       "  color: #000000;\n",
       "}\n",
       "#T_c5462_row5_col0 {\n",
       "  background-color: #ec7f63;\n",
       "  color: #f1f1f1;\n",
       "}\n",
       "#T_c5462_row5_col1 {\n",
       "  background-color: #4b64d5;\n",
       "  color: #f1f1f1;\n",
       "}\n",
       "#T_c5462_row5_col2 {\n",
       "  background-color: #f1ccb8;\n",
       "  color: #000000;\n",
       "}\n",
       "#T_c5462_row5_col3 {\n",
       "  background-color: #7b9ff9;\n",
       "  color: #f1f1f1;\n",
       "}\n",
       "#T_c5462_row5_col4 {\n",
       "  background-color: #f6a283;\n",
       "  color: #000000;\n",
       "}\n",
       "#T_c5462_row5_col6 {\n",
       "  background-color: #8fb1fe;\n",
       "  color: #000000;\n",
       "}\n",
       "#T_c5462_row5_col7 {\n",
       "  background-color: #dddcdc;\n",
       "  color: #000000;\n",
       "}\n",
       "#T_c5462_row5_col8 {\n",
       "  background-color: #c1d4f4;\n",
       "  color: #000000;\n",
       "}\n",
       "#T_c5462_row5_col9, #T_c5462_row5_col10 {\n",
       "  background-color: #a6c4fe;\n",
       "  color: #000000;\n",
       "}\n",
       "#T_c5462_row6_col1 {\n",
       "  background-color: #c5d6f2;\n",
       "  color: #000000;\n",
       "}\n",
       "#T_c5462_row6_col2 {\n",
       "  background-color: #f6bfa6;\n",
       "  color: #000000;\n",
       "}\n",
       "#T_c5462_row6_col3 {\n",
       "  background-color: #84a7fc;\n",
       "  color: #f1f1f1;\n",
       "}\n",
       "#T_c5462_row6_col4 {\n",
       "  background-color: #92b4fe;\n",
       "  color: #000000;\n",
       "}\n",
       "#T_c5462_row6_col5 {\n",
       "  background-color: #a2c1ff;\n",
       "  color: #000000;\n",
       "}\n",
       "#T_c5462_row6_col7 {\n",
       "  background-color: #f7b599;\n",
       "  color: #000000;\n",
       "}\n",
       "#T_c5462_row6_col8 {\n",
       "  background-color: #80a3fa;\n",
       "  color: #f1f1f1;\n",
       "}\n",
       "#T_c5462_row6_col9, #T_c5462_row6_col10 {\n",
       "  background-color: #5e7de7;\n",
       "  color: #f1f1f1;\n",
       "}\n",
       "#T_c5462_row7_col0 {\n",
       "  background-color: #f2cab5;\n",
       "  color: #000000;\n",
       "}\n",
       "#T_c5462_row7_col2 {\n",
       "  background-color: #dbdcde;\n",
       "  color: #000000;\n",
       "}\n",
       "#T_c5462_row7_col3 {\n",
       "  background-color: #6f92f3;\n",
       "  color: #f1f1f1;\n",
       "}\n",
       "#T_c5462_row7_col5 {\n",
       "  background-color: #d8dce2;\n",
       "  color: #000000;\n",
       "}\n",
       "#T_c5462_row7_col6 {\n",
       "  background-color: #f5c1a9;\n",
       "  color: #000000;\n",
       "}\n",
       "#T_c5462_row7_col8 {\n",
       "  background-color: #5b7ae5;\n",
       "  color: #f1f1f1;\n",
       "}\n",
       "#T_c5462_row8_col0 {\n",
       "  background-color: #98b9ff;\n",
       "  color: #000000;\n",
       "}\n",
       "#T_c5462_row8_col2 {\n",
       "  background-color: #bbd1f8;\n",
       "  color: #000000;\n",
       "}\n",
       "#T_c5462_row8_col3 {\n",
       "  background-color: #6180e9;\n",
       "  color: #f1f1f1;\n",
       "}\n",
       "#T_c5462_row8_col5 {\n",
       "  background-color: #b6cefa;\n",
       "  color: #000000;\n",
       "}\n",
       "#T_c5462_row8_col6 {\n",
       "  background-color: #5875e1;\n",
       "  color: #f1f1f1;\n",
       "}\n",
       "#T_c5462_row8_col7 {\n",
       "  background-color: #5572df;\n",
       "  color: #f1f1f1;\n",
       "}\n",
       "#T_c5462_row8_col9, #T_c5462_row8_col10 {\n",
       "  background-color: #d2dbe8;\n",
       "  color: #000000;\n",
       "}\n",
       "#T_c5462_row9_col0, #T_c5462_row10_col0 {\n",
       "  background-color: #dedcdb;\n",
       "  color: #000000;\n",
       "}\n",
       "#T_c5462_row9_col1, #T_c5462_row10_col1 {\n",
       "  background-color: #6788ee;\n",
       "  color: #f1f1f1;\n",
       "}\n",
       "#T_c5462_row9_col2, #T_c5462_row10_col2 {\n",
       "  background-color: #7a9df8;\n",
       "  color: #f1f1f1;\n",
       "}\n",
       "#T_c5462_row9_col3, #T_c5462_row10_col3 {\n",
       "  background-color: #4a63d3;\n",
       "  color: #f1f1f1;\n",
       "}\n",
       "#T_c5462_row9_col4, #T_c5462_row10_col4 {\n",
       "  background-color: #bed2f6;\n",
       "  color: #000000;\n",
       "}\n",
       "</style>\n",
       "<table id=\"T_c5462_\">\n",
       "  <thead>\n",
       "    <tr>\n",
       "      <th class=\"blank level0\" >&nbsp;</th>\n",
       "      <th class=\"col_heading level0 col0\" >nutriscore_score</th>\n",
       "      <th class=\"col_heading level0 col1\" >ecoscore_score_fr</th>\n",
       "      <th class=\"col_heading level0 col2\" >energy-kcal_100g</th>\n",
       "      <th class=\"col_heading level0 col3\" >energy_100g</th>\n",
       "      <th class=\"col_heading level0 col4\" >fat_100g</th>\n",
       "      <th class=\"col_heading level0 col5\" >saturated-fat_100g</th>\n",
       "      <th class=\"col_heading level0 col6\" >carbohydrates_100g</th>\n",
       "      <th class=\"col_heading level0 col7\" >sugars_100g</th>\n",
       "      <th class=\"col_heading level0 col8\" >proteins_100g</th>\n",
       "      <th class=\"col_heading level0 col9\" >salt_100g</th>\n",
       "      <th class=\"col_heading level0 col10\" >sodium_100g</th>\n",
       "    </tr>\n",
       "  </thead>\n",
       "  <tbody>\n",
       "    <tr>\n",
       "      <th id=\"T_c5462_level0_row0\" class=\"row_heading level0 row0\" >nutriscore_score</th>\n",
       "      <td id=\"T_c5462_row0_col0\" class=\"data row0 col0\" >1.000000</td>\n",
       "      <td id=\"T_c5462_row0_col1\" class=\"data row0 col1\" >-0.322100</td>\n",
       "      <td id=\"T_c5462_row0_col2\" class=\"data row0 col2\" >0.593665</td>\n",
       "      <td id=\"T_c5462_row0_col3\" class=\"data row0 col3\" >0.147449</td>\n",
       "      <td id=\"T_c5462_row0_col4\" class=\"data row0 col4\" >0.598467</td>\n",
       "      <td id=\"T_c5462_row0_col5\" class=\"data row0 col5\" >0.749346</td>\n",
       "      <td id=\"T_c5462_row0_col6\" class=\"data row0 col6\" >0.246360</td>\n",
       "      <td id=\"T_c5462_row0_col7\" class=\"data row0 col7\" >0.473283</td>\n",
       "      <td id=\"T_c5462_row0_col8\" class=\"data row0 col8\" >0.050507</td>\n",
       "      <td id=\"T_c5462_row0_col9\" class=\"data row0 col9\" >0.348262</td>\n",
       "      <td id=\"T_c5462_row0_col10\" class=\"data row0 col10\" >0.348250</td>\n",
       "    </tr>\n",
       "    <tr>\n",
       "      <th id=\"T_c5462_level0_row1\" class=\"row_heading level0 row1\" >ecoscore_score_fr</th>\n",
       "      <td id=\"T_c5462_row1_col0\" class=\"data row1 col0\" >-0.322100</td>\n",
       "      <td id=\"T_c5462_row1_col1\" class=\"data row1 col1\" >1.000000</td>\n",
       "      <td id=\"T_c5462_row1_col2\" class=\"data row1 col2\" >-0.190189</td>\n",
       "      <td id=\"T_c5462_row1_col3\" class=\"data row1 col3\" >-0.037449</td>\n",
       "      <td id=\"T_c5462_row1_col4\" class=\"data row1 col4\" >-0.336620</td>\n",
       "      <td id=\"T_c5462_row1_col5\" class=\"data row1 col5\" >-0.303872</td>\n",
       "      <td id=\"T_c5462_row1_col6\" class=\"data row1 col6\" >0.189300</td>\n",
       "      <td id=\"T_c5462_row1_col7\" class=\"data row1 col7\" >-0.034699</td>\n",
       "      <td id=\"T_c5462_row1_col8\" class=\"data row1 col8\" >-0.384261</td>\n",
       "      <td id=\"T_c5462_row1_col9\" class=\"data row1 col9\" >-0.185392</td>\n",
       "      <td id=\"T_c5462_row1_col10\" class=\"data row1 col10\" >-0.185373</td>\n",
       "    </tr>\n",
       "    <tr>\n",
       "      <th id=\"T_c5462_level0_row2\" class=\"row_heading level0 row2\" >energy-kcal_100g</th>\n",
       "      <td id=\"T_c5462_row2_col0\" class=\"data row2 col0\" >0.593665</td>\n",
       "      <td id=\"T_c5462_row2_col1\" class=\"data row2 col1\" >-0.190189</td>\n",
       "      <td id=\"T_c5462_row2_col2\" class=\"data row2 col2\" >1.000000</td>\n",
       "      <td id=\"T_c5462_row2_col3\" class=\"data row2 col3\" >0.996223</td>\n",
       "      <td id=\"T_c5462_row2_col4\" class=\"data row2 col4\" >0.724463</td>\n",
       "      <td id=\"T_c5462_row2_col5\" class=\"data row2 col5\" >0.517563</td>\n",
       "      <td id=\"T_c5462_row2_col6\" class=\"data row2 col6\" >0.573590</td>\n",
       "      <td id=\"T_c5462_row2_col7\" class=\"data row2 col7\" >0.399259</td>\n",
       "      <td id=\"T_c5462_row2_col8\" class=\"data row2 col8\" >0.266129</td>\n",
       "      <td id=\"T_c5462_row2_col9\" class=\"data row2 col9\" >0.043259</td>\n",
       "      <td id=\"T_c5462_row2_col10\" class=\"data row2 col10\" >0.043259</td>\n",
       "    </tr>\n",
       "    <tr>\n",
       "      <th id=\"T_c5462_level0_row3\" class=\"row_heading level0 row3\" >energy_100g</th>\n",
       "      <td id=\"T_c5462_row3_col0\" class=\"data row3 col0\" >0.147449</td>\n",
       "      <td id=\"T_c5462_row3_col1\" class=\"data row3 col1\" >-0.037449</td>\n",
       "      <td id=\"T_c5462_row3_col2\" class=\"data row3 col2\" >0.996223</td>\n",
       "      <td id=\"T_c5462_row3_col3\" class=\"data row3 col3\" >1.000000</td>\n",
       "      <td id=\"T_c5462_row3_col4\" class=\"data row3 col4\" >0.241625</td>\n",
       "      <td id=\"T_c5462_row3_col5\" class=\"data row3 col5\" >0.172911</td>\n",
       "      <td id=\"T_c5462_row3_col6\" class=\"data row3 col6\" >0.195089</td>\n",
       "      <td id=\"T_c5462_row3_col7\" class=\"data row3 col7\" >0.133320</td>\n",
       "      <td id=\"T_c5462_row3_col8\" class=\"data row3 col8\" >0.089559</td>\n",
       "      <td id=\"T_c5462_row3_col9\" class=\"data row3 col9\" >0.016360</td>\n",
       "      <td id=\"T_c5462_row3_col10\" class=\"data row3 col10\" >0.016357</td>\n",
       "    </tr>\n",
       "    <tr>\n",
       "      <th id=\"T_c5462_level0_row4\" class=\"row_heading level0 row4\" >fat_100g</th>\n",
       "      <td id=\"T_c5462_row4_col0\" class=\"data row4 col0\" >0.598467</td>\n",
       "      <td id=\"T_c5462_row4_col1\" class=\"data row4 col1\" >-0.336620</td>\n",
       "      <td id=\"T_c5462_row4_col2\" class=\"data row4 col2\" >0.724463</td>\n",
       "      <td id=\"T_c5462_row4_col3\" class=\"data row4 col3\" >0.241625</td>\n",
       "      <td id=\"T_c5462_row4_col4\" class=\"data row4 col4\" >1.000000</td>\n",
       "      <td id=\"T_c5462_row4_col5\" class=\"data row4 col5\" >0.636393</td>\n",
       "      <td id=\"T_c5462_row4_col6\" class=\"data row4 col6\" >0.015961</td>\n",
       "      <td id=\"T_c5462_row4_col7\" class=\"data row4 col7\" >0.159520</td>\n",
       "      <td id=\"T_c5462_row4_col8\" class=\"data row4 col8\" >0.240561</td>\n",
       "      <td id=\"T_c5462_row4_col9\" class=\"data row4 col9\" >0.186604</td>\n",
       "      <td id=\"T_c5462_row4_col10\" class=\"data row4 col10\" >0.186598</td>\n",
       "    </tr>\n",
       "    <tr>\n",
       "      <th id=\"T_c5462_level0_row5\" class=\"row_heading level0 row5\" >saturated-fat_100g</th>\n",
       "      <td id=\"T_c5462_row5_col0\" class=\"data row5 col0\" >0.749346</td>\n",
       "      <td id=\"T_c5462_row5_col1\" class=\"data row5 col1\" >-0.303872</td>\n",
       "      <td id=\"T_c5462_row5_col2\" class=\"data row5 col2\" >0.517563</td>\n",
       "      <td id=\"T_c5462_row5_col3\" class=\"data row5 col3\" >0.172911</td>\n",
       "      <td id=\"T_c5462_row5_col4\" class=\"data row5 col4\" >0.636393</td>\n",
       "      <td id=\"T_c5462_row5_col5\" class=\"data row5 col5\" >1.000000</td>\n",
       "      <td id=\"T_c5462_row5_col6\" class=\"data row5 col6\" >0.102161</td>\n",
       "      <td id=\"T_c5462_row5_col7\" class=\"data row5 col7\" >0.325457</td>\n",
       "      <td id=\"T_c5462_row5_col8\" class=\"data row5 col8\" >0.176847</td>\n",
       "      <td id=\"T_c5462_row5_col9\" class=\"data row5 col9\" >0.080317</td>\n",
       "      <td id=\"T_c5462_row5_col10\" class=\"data row5 col10\" >0.080315</td>\n",
       "    </tr>\n",
       "    <tr>\n",
       "      <th id=\"T_c5462_level0_row6\" class=\"row_heading level0 row6\" >carbohydrates_100g</th>\n",
       "      <td id=\"T_c5462_row6_col0\" class=\"data row6 col0\" >0.246360</td>\n",
       "      <td id=\"T_c5462_row6_col1\" class=\"data row6 col1\" >0.189300</td>\n",
       "      <td id=\"T_c5462_row6_col2\" class=\"data row6 col2\" >0.573590</td>\n",
       "      <td id=\"T_c5462_row6_col3\" class=\"data row6 col3\" >0.195089</td>\n",
       "      <td id=\"T_c5462_row6_col4\" class=\"data row6 col4\" >0.015961</td>\n",
       "      <td id=\"T_c5462_row6_col5\" class=\"data row6 col5\" >0.102161</td>\n",
       "      <td id=\"T_c5462_row6_col6\" class=\"data row6 col6\" >1.000000</td>\n",
       "      <td id=\"T_c5462_row6_col7\" class=\"data row6 col7\" >0.558953</td>\n",
       "      <td id=\"T_c5462_row6_col8\" class=\"data row6 col8\" >-0.091543</td>\n",
       "      <td id=\"T_c5462_row6_col9\" class=\"data row6 col9\" >-0.204493</td>\n",
       "      <td id=\"T_c5462_row6_col10\" class=\"data row6 col10\" >-0.204504</td>\n",
       "    </tr>\n",
       "    <tr>\n",
       "      <th id=\"T_c5462_level0_row7\" class=\"row_heading level0 row7\" >sugars_100g</th>\n",
       "      <td id=\"T_c5462_row7_col0\" class=\"data row7 col0\" >0.473283</td>\n",
       "      <td id=\"T_c5462_row7_col1\" class=\"data row7 col1\" >-0.034699</td>\n",
       "      <td id=\"T_c5462_row7_col2\" class=\"data row7 col2\" >0.399259</td>\n",
       "      <td id=\"T_c5462_row7_col3\" class=\"data row7 col3\" >0.133320</td>\n",
       "      <td id=\"T_c5462_row7_col4\" class=\"data row7 col4\" >0.159520</td>\n",
       "      <td id=\"T_c5462_row7_col5\" class=\"data row7 col5\" >0.325457</td>\n",
       "      <td id=\"T_c5462_row7_col6\" class=\"data row7 col6\" >0.558953</td>\n",
       "      <td id=\"T_c5462_row7_col7\" class=\"data row7 col7\" >1.000000</td>\n",
       "      <td id=\"T_c5462_row7_col8\" class=\"data row7 col8\" >-0.237575</td>\n",
       "      <td id=\"T_c5462_row7_col9\" class=\"data row7 col9\" >-0.358946</td>\n",
       "      <td id=\"T_c5462_row7_col10\" class=\"data row7 col10\" >-0.358975</td>\n",
       "    </tr>\n",
       "    <tr>\n",
       "      <th id=\"T_c5462_level0_row8\" class=\"row_heading level0 row8\" >proteins_100g</th>\n",
       "      <td id=\"T_c5462_row8_col0\" class=\"data row8 col0\" >0.050507</td>\n",
       "      <td id=\"T_c5462_row8_col1\" class=\"data row8 col1\" >-0.384261</td>\n",
       "      <td id=\"T_c5462_row8_col2\" class=\"data row8 col2\" >0.266129</td>\n",
       "      <td id=\"T_c5462_row8_col3\" class=\"data row8 col3\" >0.089559</td>\n",
       "      <td id=\"T_c5462_row8_col4\" class=\"data row8 col4\" >0.240561</td>\n",
       "      <td id=\"T_c5462_row8_col5\" class=\"data row8 col5\" >0.176847</td>\n",
       "      <td id=\"T_c5462_row8_col6\" class=\"data row8 col6\" >-0.091543</td>\n",
       "      <td id=\"T_c5462_row8_col7\" class=\"data row8 col7\" >-0.237575</td>\n",
       "      <td id=\"T_c5462_row8_col8\" class=\"data row8 col8\" >1.000000</td>\n",
       "      <td id=\"T_c5462_row8_col9\" class=\"data row8 col9\" >0.266997</td>\n",
       "      <td id=\"T_c5462_row8_col10\" class=\"data row8 col10\" >0.267007</td>\n",
       "    </tr>\n",
       "    <tr>\n",
       "      <th id=\"T_c5462_level0_row9\" class=\"row_heading level0 row9\" >salt_100g</th>\n",
       "      <td id=\"T_c5462_row9_col0\" class=\"data row9 col0\" >0.348262</td>\n",
       "      <td id=\"T_c5462_row9_col1\" class=\"data row9 col1\" >-0.185392</td>\n",
       "      <td id=\"T_c5462_row9_col2\" class=\"data row9 col2\" >0.043259</td>\n",
       "      <td id=\"T_c5462_row9_col3\" class=\"data row9 col3\" >0.016360</td>\n",
       "      <td id=\"T_c5462_row9_col4\" class=\"data row9 col4\" >0.186604</td>\n",
       "      <td id=\"T_c5462_row9_col5\" class=\"data row9 col5\" >0.080317</td>\n",
       "      <td id=\"T_c5462_row9_col6\" class=\"data row9 col6\" >-0.204493</td>\n",
       "      <td id=\"T_c5462_row9_col7\" class=\"data row9 col7\" >-0.358946</td>\n",
       "      <td id=\"T_c5462_row9_col8\" class=\"data row9 col8\" >0.266997</td>\n",
       "      <td id=\"T_c5462_row9_col9\" class=\"data row9 col9\" >1.000000</td>\n",
       "      <td id=\"T_c5462_row9_col10\" class=\"data row9 col10\" >0.999983</td>\n",
       "    </tr>\n",
       "    <tr>\n",
       "      <th id=\"T_c5462_level0_row10\" class=\"row_heading level0 row10\" >sodium_100g</th>\n",
       "      <td id=\"T_c5462_row10_col0\" class=\"data row10 col0\" >0.348250</td>\n",
       "      <td id=\"T_c5462_row10_col1\" class=\"data row10 col1\" >-0.185373</td>\n",
       "      <td id=\"T_c5462_row10_col2\" class=\"data row10 col2\" >0.043259</td>\n",
       "      <td id=\"T_c5462_row10_col3\" class=\"data row10 col3\" >0.016357</td>\n",
       "      <td id=\"T_c5462_row10_col4\" class=\"data row10 col4\" >0.186598</td>\n",
       "      <td id=\"T_c5462_row10_col5\" class=\"data row10 col5\" >0.080315</td>\n",
       "      <td id=\"T_c5462_row10_col6\" class=\"data row10 col6\" >-0.204504</td>\n",
       "      <td id=\"T_c5462_row10_col7\" class=\"data row10 col7\" >-0.358975</td>\n",
       "      <td id=\"T_c5462_row10_col8\" class=\"data row10 col8\" >0.267007</td>\n",
       "      <td id=\"T_c5462_row10_col9\" class=\"data row10 col9\" >0.999983</td>\n",
       "      <td id=\"T_c5462_row10_col10\" class=\"data row10 col10\" >1.000000</td>\n",
       "    </tr>\n",
       "  </tbody>\n",
       "</table>\n"
      ],
      "text/plain": [
       "<pandas.io.formats.style.Styler at 0x264f96d65e0>"
      ]
     },
     "execution_count": 18,
     "metadata": {},
     "output_type": "execute_result"
    }
   ],
   "source": [
    "corr = data.corr()\n",
    "corr.style.background_gradient(cmap='coolwarm')\n"
   ]
  },
  {
   "cell_type": "code",
   "execution_count": 19,
   "id": "7ff7f490-82a1-4ca7-b77b-03ee070c3ebd",
   "metadata": {},
   "outputs": [
    {
     "data": {
      "text/plain": [
       "code                       0\n",
       "proteins_100g              0\n",
       "sugars_100g                0\n",
       "carbohydrates_100g         0\n",
       "saturated-fat_100g         0\n",
       "fat_100g                   0\n",
       "salt_100g                  0\n",
       "sodium_100g                0\n",
       "countries_en               0\n",
       "product_name               0\n",
       "energy_100g              287\n",
       "energy-kcal_100g       15397\n",
       "image_url              21391\n",
       "brands                129064\n",
       "main_category_en      154936\n",
       "categories_en         154936\n",
       "nutriscore_score      159655\n",
       "nutriscore_grade      159655\n",
       "pnns_groups_1         169692\n",
       "pnns_groups_2         169692\n",
       "labels_en             202038\n",
       "ecoscore_score_fr     204228\n",
       "ecoscore_grade_fr     204228\n",
       "dtype: int64"
      ]
     },
     "execution_count": 19,
     "metadata": {},
     "output_type": "execute_result"
    }
   ],
   "source": [
    "data.isnull().sum().sort_values()"
   ]
  },
  {
   "cell_type": "code",
   "execution_count": 20,
   "id": "e6fc8ac7-b00c-40d1-8567-cf2025affedb",
   "metadata": {},
   "outputs": [
    {
     "data": {
      "image/png": "[encoded data removed]",
      "text/plain": [
       "<Figure size 432x288 with 1 Axes>"
      ]
     },
     "metadata": {
      "needs_background": "light"
     },
     "output_type": "display_data"
    }
   ],
   "source": [
    "plt.xlabel('kcal')\n",
    "plt.ylabel('energy')\n",
    "plt.plot(data['energy-kcal_100g'], data['energy_100g'], 'ro', markersize=4)\n",
    "plt.show()"
   ]
  },
  {
   "cell_type": "code",
   "execution_count": 21,
   "id": "6087913e-11dd-4676-8552-498199541604",
   "metadata": {},
   "outputs": [
    {
     "data": {
      "image/png": "[encoded data removed]",
      "text/plain": [
       "<Figure size 432x288 with 1 Axes>"
      ]
     },
     "metadata": {
      "needs_background": "light"
     },
     "output_type": "display_data"
    }
   ],
   "source": [
    "# delete outliers\n",
    "data = data[(data['energy_100g'] <= 5000) | (data['energy_100g'].isnull())]\n",
    "\n",
    "plt.xlabel('kcal')\n",
    "plt.ylabel('energy')\n",
    "\n",
    "plt.plot(data['energy-kcal_100g'], data['energy_100g'], 'ro', markersize=4)\n",
    "\n",
    "plt.show()"
   ]
  },
  {
   "cell_type": "markdown",
   "id": "bebdb90f-e3bf-4478-abda-346e5dfba80f",
   "metadata": {},
   "source": [
    "#### 3.1.5 Predict kcal from energy"
   ]
  },
  {
   "cell_type": "code",
   "execution_count": 22,
   "id": "5c2413d9-44e7-4a8e-8198-da8651dc6d54",
   "metadata": {},
   "outputs": [
    {
     "name": "stderr",
     "output_type": "stream",
     "text": [
      "100%|██████████████████████████████████████████████| 318898/318898 [00:04<00:00, 71642.32it/s]\n"
     ]
    }
   ],
   "source": [
    "data = data[data['energy_100g'].notnull()]  \n",
    "\n",
    "X = np.matrix([np.ones(data[data['energy-kcal_100g'].notnull()].shape[0]),\n",
    "               data[data['energy-kcal_100g'].notnull()]['energy_100g'].values]).T\n",
    "y = np.matrix(data[data['energy-kcal_100g'].notnull()]['energy-kcal_100g']).T\n",
    "\n",
    "theta = np.linalg.inv(X.T.dot(X)).dot(X.T).dot(y)\n",
    "\n",
    "# fill null energy-kal_100g with the prediction from energy_100g column \n",
    "data['energy-kcal_100g'] = data.progress_apply(lambda x: theta.item(0) + x['energy_100g'] * theta.item(1) if pd.isnull(x['energy-kcal_100g']) else x['energy-kcal_100g'], axis=1)"
   ]
  },
  {
   "cell_type": "markdown",
   "id": "b13fc967-2251-4e0b-b9ec-dcf343b9c9a8",
   "metadata": {},
   "source": [
    "## 4. Clean and export df"
   ]
  },
  {
   "cell_type": "code",
   "execution_count": 23,
   "id": "ca735f5e-93a6-4324-b235-e50dfd8e0405",
   "metadata": {},
   "outputs": [],
   "source": [
    "# delete outliers\n",
    "data = data[data['energy-kcal_100g'] <= 900]\n",
    "\n",
    "# drop nor necessary columns\n",
    "data.drop(columns = ['sodium_100g','energy_100g'], inplace =True)"
   ]
  },
  {
   "cell_type": "code",
   "execution_count": 24,
   "id": "5cae5078-0c5f-465c-b0dc-710a8232fc43",
   "metadata": {},
   "outputs": [],
   "source": [
    "data.to_pickle('data_clean.pkl')"
   ]
  },
  {
   "cell_type": "code",
   "execution_count": null,
   "id": "625bb186-42c6-4e5e-b589-927fd11f1cb1",
   "metadata": {},
   "outputs": [],
   "source": []
  }
 ],
 "metadata": {
  "kernelspec": {
   "display_name": "Python 3",
   "language": "python",
   "name": "python3"
  },
  "language_info": {
   "codemirror_mode": {
    "name": "ipython",
    "version": 3
   },
   "file_extension": ".py",
   "mimetype": "text/x-python",
   "name": "python",
   "nbconvert_exporter": "python",
   "pygments_lexer": "ipython3",
   "version": "3.8.10"
  },
  "widgets": {
   "application/vnd.jupyter.widget-state+json": {
    "state": {},
    "version_major": 2,
    "version_minor": 0
   }
  }
 },
 "nbformat": 4,
 "nbformat_minor": 5
}
